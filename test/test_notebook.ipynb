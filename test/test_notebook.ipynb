{
 "cells": [
  {
   "cell_type": "markdown",
   "metadata": {},
   "source": [
    "# Test iPython Notebook"
   ]
  },
  {
   "cell_type": "code",
   "execution_count": 1,
   "metadata": {},
   "outputs": [
    {
     "data": {
      "text/plain": [
       "'/Users/Doug/dtm_repos/coupled_relativity/test'"
      ]
     },
     "execution_count": 1,
     "metadata": {},
     "output_type": "execute_result"
    }
   ],
   "source": [
    "pwd # Look where we are"
   ]
  },
  {
   "cell_type": "code",
   "execution_count": 2,
   "metadata": {
    "collapsed": true
   },
   "outputs": [],
   "source": [
    "from matplotlib import pyplot as plt\n",
    "import numpy as np\n",
    "import sys\n",
    "sys.path.append('../') # append import path to where package is\n",
    "from coupled_relativity.fourmomentum import FourMomentum"
   ]
  },
  {
   "cell_type": "code",
   "execution_count": 3,
   "metadata": {
    "collapsed": true
   },
   "outputs": [],
   "source": [
    "E = np.array([345, 535, 3865, 7254])\n",
    "px = np.array([23, 35, 75, 85])\n",
    "py = np.array([30, 35, 75, 8])\n",
    "pz = np.array([80, 43, 59, 55])"
   ]
  },
  {
   "cell_type": "code",
   "execution_count": 4,
   "metadata": {
    "collapsed": true
   },
   "outputs": [],
   "source": [
    "P = FourMomentum(E, px, py, pz)"
   ]
  },
  {
   "cell_type": "code",
   "execution_count": 5,
   "metadata": {},
   "outputs": [
    {
     "data": {
      "text/plain": [
       "array([  344.23247958,   533.8539126 ,  3864.27224714,  7253.5019818 ])"
      ]
     },
     "execution_count": 5,
     "metadata": {},
     "output_type": "execute_result"
    }
   ],
   "source": [
    "P.mass()"
   ]
  },
  {
   "cell_type": "code",
   "execution_count": 6,
   "metadata": {},
   "outputs": [
    {
     "data": {
      "text/plain": [
       "<coupled_relativity.fourmomentum.FourMomentum at 0x1074db400>"
      ]
     },
     "execution_count": 6,
     "metadata": {},
     "output_type": "execute_result"
    }
   ],
   "source": [
    "P + P"
   ]
  },
  {
   "cell_type": "code",
   "execution_count": 7,
   "metadata": {},
   "outputs": [
    {
     "data": {
      "text/plain": [
       "(7254, 85)"
      ]
     },
     "execution_count": 7,
     "metadata": {},
     "output_type": "execute_result"
    }
   ],
   "source": [
    "P.E[3], P.px[3]"
   ]
  },
  {
   "cell_type": "code",
   "execution_count": 8,
   "metadata": {},
   "outputs": [
    {
     "data": {
      "text/plain": [
       "85"
      ]
     },
     "execution_count": 8,
     "metadata": {},
     "output_type": "execute_result"
    }
   ],
   "source": [
    "P.px[3]"
   ]
  },
  {
   "cell_type": "code",
   "execution_count": 9,
   "metadata": {
    "collapsed": true
   },
   "outputs": [],
   "source": [
    "test_array = np.array([P.E[3], P.px[3]])"
   ]
  },
  {
   "cell_type": "code",
   "execution_count": 10,
   "metadata": {},
   "outputs": [
    {
     "name": "stdout",
     "output_type": "stream",
     "text": [
      "[7254   85]\n"
     ]
    }
   ],
   "source": [
    "print(test_array)"
   ]
  },
  {
   "cell_type": "code",
   "execution_count": 11,
   "metadata": {},
   "outputs": [
    {
     "data": {
      "text/plain": [
       "4"
      ]
     },
     "execution_count": 11,
     "metadata": {},
     "output_type": "execute_result"
    }
   ],
   "source": [
    "len(P.E)"
   ]
  },
  {
   "cell_type": "code",
   "execution_count": 22,
   "metadata": {},
   "outputs": [
    {
     "name": "stdout",
     "output_type": "stream",
     "text": [
      "0 345\n",
      "1 535\n",
      "2 3865\n",
      "3 7254\n"
     ]
    }
   ],
   "source": [
    "for i, element in enumerate(P.E):\n",
    "    E_value = element\n",
    "    print(i, E_value)\n",
    "    "
   ]
  },
  {
   "cell_type": "code",
   "execution_count": 38,
   "metadata": {},
   "outputs": [
    {
     "name": "stdout",
     "output_type": "stream",
     "text": [
      "[ 14.86606875  14.56021978  14.31782106  14.14213562  14.03566885  14.\n",
      "  14.03566885  14.14213562  14.31782106  14.56021978  14.86606875]\n",
      "[ 5.83095189  5.          4.24264069  3.60555128  3.16227766  3.\n",
      "  3.16227766  3.60555128  4.24264069  5.          5.83095189]\n"
     ]
    }
   ],
   "source": [
    "m_one = 14 # kg\n",
    "p_one = np.array([-5,-4,-3,-2,-1,0,1,2,3,4,5]) \n",
    "E_one = np.sqrt(np.square(m_one) + np.square(p_one)) # based on m**2 = E**2 - p**2\n",
    "print(E_one)\n",
    "\n",
    "m_two = 3 # kg\n",
    "p_two = np.array([-5,-4,-3,-2,-1,0,1,2,3,4,5])\n",
    "E_two = np.sqrt(np.square(m_two) + np.square(p_two)) # based on m**2 = E**2 - p**2\n",
    "print(E_two)"
   ]
  },
  {
   "cell_type": "code",
   "execution_count": 39,
   "metadata": {},
   "outputs": [
    {
     "data": {
      "image/png": "[encoded data removed]",
      "text/plain": [
       "<matplotlib.figure.Figure at 0x1088c2630>"
      ]
     },
     "metadata": {},
     "output_type": "display_data"
    }
   ],
   "source": [
    "plt.scatter(p_one, E_one, color='b')\n",
    "plt.scatter(p_two, E_two, color='g')\n",
    "plt.xlabel(\"Momentum\")\n",
    "plt.ylabel(\"Energy\")\n",
    "plt.show()"
   ]
  },
  {
   "cell_type": "code",
   "execution_count": 40,
   "metadata": {},
   "outputs": [
    {
     "data": {
      "text/plain": [
       "'Step 1. Single moment in time [E, px, py, pz]\\n   Step 2. Calculate total curve in E-P space using m**2 = E**2 - p**2\\n   Step 3. Repeat steps 1 and 2 for another event\\n   Step 4. Couple w/k to find bands\\n'"
      ]
     },
     "execution_count": 40,
     "metadata": {},
     "output_type": "execute_result"
    }
   ],
   "source": [
    "\"\"\"Step 1. Single moment in time [E, px, py, pz]\n",
    "   Step 2. Calculate total curve in E-P space using m**2 = E**2 - p**2\n",
    "   Step 3. Repeat steps 1 and 2 for another event\n",
    "   Step 4. Couple w/k to find bands\n",
    "\"\"\""
   ]
  },
  {
   "cell_type": "code",
   "execution_count": null,
   "metadata": {
    "collapsed": true
   },
   "outputs": [],
   "source": []
  }
 ],
 "metadata": {
  "kernelspec": {
   "display_name": "Python 3",
   "language": "python",
   "name": "python3"
  },
  "language_info": {
   "codemirror_mode": {
    "name": "ipython",
    "version": 3
   },
   "file_extension": ".py",
   "mimetype": "text/x-python",
   "name": "python",
   "nbconvert_exporter": "python",
   "pygments_lexer": "ipython3",
   "version": "3.5.0"
  }
 },
 "nbformat": 4,
 "nbformat_minor": 2
}
